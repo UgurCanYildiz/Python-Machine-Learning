{
 "cells": [
  {
   "cell_type": "code",
   "execution_count": null,
   "id": "54b54bd6",
   "metadata": {},
   "outputs": [],
   "source": []
  },
  {
   "cell_type": "code",
   "execution_count": 2,
   "id": "67a17168",
   "metadata": {},
   "outputs": [],
   "source": [
    "#Pandas Modülünü İmport Etmek"
   ]
  },
  {
   "cell_type": "code",
   "execution_count": 1,
   "id": "1dcaace6",
   "metadata": {},
   "outputs": [],
   "source": [
    "import pandas as pd\n"
   ]
  },
  {
   "cell_type": "code",
   "execution_count": 4,
   "id": "42ffe967",
   "metadata": {},
   "outputs": [],
   "source": [
    "#CSV DOSYASINDAN VERİ OKUMAK"
   ]
  },
  {
   "cell_type": "code",
   "execution_count": null,
   "id": "c205cd22",
   "metadata": {},
   "outputs": [],
   "source": [
    "df = pd.read_csv()"
   ]
  },
  {
   "cell_type": "code",
   "execution_count": 7,
   "id": "4cea4187",
   "metadata": {},
   "outputs": [],
   "source": [
    "#İlk 5 satır görmek için"
   ]
  },
  {
   "cell_type": "code",
   "execution_count": null,
   "id": "78537d7c",
   "metadata": {},
   "outputs": [],
   "source": [
    "df.head()"
   ]
  },
  {
   "cell_type": "code",
   "execution_count": null,
   "id": "91589f87",
   "metadata": {},
   "outputs": [],
   "source": [
    "#Son 5 satırdaki verileri görmek"
   ]
  },
  {
   "cell_type": "code",
   "execution_count": null,
   "id": "8d2d4be9",
   "metadata": {},
   "outputs": [],
   "source": [
    "df.tail()"
   ]
  },
  {
   "cell_type": "code",
   "execution_count": null,
   "id": "4525f3c0",
   "metadata": {},
   "outputs": [],
   "source": [
    "#Data frame boyutlarını görmek"
   ]
  },
  {
   "cell_type": "code",
   "execution_count": null,
   "id": "6ad926c4",
   "metadata": {},
   "outputs": [],
   "source": [
    "df.shape()"
   ]
  },
  {
   "cell_type": "code",
   "execution_count": null,
   "id": "d035cd87",
   "metadata": {},
   "outputs": [],
   "source": [
    "len(df)"
   ]
  },
  {
   "cell_type": "code",
   "execution_count": 8,
   "id": "632bf298",
   "metadata": {},
   "outputs": [],
   "source": [
    "#Data Frame deki başlıkları görmek"
   ]
  },
  {
   "cell_type": "code",
   "execution_count": null,
   "id": "ccf191f7",
   "metadata": {},
   "outputs": [],
   "source": [
    "df.columns"
   ]
  },
  {
   "cell_type": "code",
   "execution_count": 9,
   "id": "12aa4b43",
   "metadata": {},
   "outputs": [],
   "source": [
    "#Data Frame içindeki veri tiplerini görmek"
   ]
  },
  {
   "cell_type": "code",
   "execution_count": null,
   "id": "b6b56cdf",
   "metadata": {},
   "outputs": [],
   "source": [
    "df.dtypes"
   ]
  },
  {
   "cell_type": "code",
   "execution_count": 10,
   "id": "9f1aec53",
   "metadata": {},
   "outputs": [],
   "source": [
    "# Eksik olan hücreleri görmek için "
   ]
  },
  {
   "cell_type": "code",
   "execution_count": null,
   "id": "eaf9d9d1",
   "metadata": {},
   "outputs": [],
   "source": [
    "df.isnull()"
   ]
  },
  {
   "cell_type": "code",
   "execution_count": null,
   "id": "f10e41cf",
   "metadata": {},
   "outputs": [],
   "source": [
    "#Data Frame Tek bir sütunu getirme"
   ]
  },
  {
   "cell_type": "code",
   "execution_count": null,
   "id": "d381f14b",
   "metadata": {},
   "outputs": [],
   "source": [
    "df[\"Sütün adı\"]"
   ]
  },
  {
   "cell_type": "code",
   "execution_count": null,
   "id": "d169e529",
   "metadata": {},
   "outputs": [],
   "source": [
    "#Data Framede tek bir sütünun ilk 5 kaydına bakmak için"
   ]
  },
  {
   "cell_type": "code",
   "execution_count": null,
   "id": "a4edfb4b",
   "metadata": {},
   "outputs": [],
   "source": [
    "df[\"Sütün adı\"][:5]"
   ]
  },
  {
   "cell_type": "code",
   "execution_count": 11,
   "id": "e4261bd2",
   "metadata": {},
   "outputs": [],
   "source": [
    "# Birden fazla sütünu bir değişkene atadığımızda o değişkende bir data frame objesi olmaktadır  "
   ]
  },
  {
   "cell_type": "code",
   "execution_count": null,
   "id": "868bbe8d",
   "metadata": {},
   "outputs": [],
   "source": [
    "df_yeni = df[[\"Sütun1\", \"Sütun2\"]]\n",
    "df_yeni"
   ]
  },
  {
   "cell_type": "code",
   "execution_count": 12,
   "id": "2b6704d1",
   "metadata": {},
   "outputs": [],
   "source": [
    "#Data framede  sıralama (sorting) etmek için sort_values kullanılır."
   ]
  },
  {
   "cell_type": "code",
   "execution_count": null,
   "id": "652fc718",
   "metadata": {},
   "outputs": [],
   "source": [
    "df.sort_values(\"Sütun_Ismi\")"
   ]
  },
  {
   "cell_type": "code",
   "execution_count": 13,
   "id": "28b67912",
   "metadata": {},
   "outputs": [],
   "source": [
    "#Sütuna göre tüm sayıları bulmak için"
   ]
  },
  {
   "cell_type": "code",
   "execution_count": null,
   "id": "60ac6909",
   "metadata": {},
   "outputs": [],
   "source": [
    "df.[\"degisken_ismi\"].value_counts()"
   ]
  },
  {
   "cell_type": "code",
   "execution_count": 17,
   "id": "b4bd4600",
   "metadata": {},
   "outputs": [],
   "source": [
    "#Veri Filtreleme(Önemli)"
   ]
  },
  {
   "cell_type": "code",
   "execution_count": 18,
   "id": "5c8f4eb5",
   "metadata": {},
   "outputs": [],
   "source": [
    "#Data Framedeki sütündaki değeri indexe göre değerlerini getirmek için ( Veri setindeki sütünun ismini biliyorsak)"
   ]
  },
  {
   "cell_type": "code",
   "execution_count": null,
   "id": "d91ba2a6",
   "metadata": {},
   "outputs": [],
   "source": [
    "df[\"Sütun_İsmi\"][1]"
   ]
  },
  {
   "cell_type": "code",
   "execution_count": 19,
   "id": "54be57c5",
   "metadata": {},
   "outputs": [],
   "source": [
    "#Veri Setini Görme Şansımız yok ise "
   ]
  },
  {
   "cell_type": "code",
   "execution_count": null,
   "id": "fd78fdc5",
   "metadata": {},
   "outputs": [],
   "source": [
    "df.loc[df[\"Sütun ismi\"] == \"Aradığımız Satır\"][\"Aradığımız Veri\"]"
   ]
  },
  {
   "cell_type": "code",
   "execution_count": 20,
   "id": "c9d97429",
   "metadata": {},
   "outputs": [],
   "source": [
    "#Yukarıdaki işlemi anlatalım."
   ]
  },
  {
   "cell_type": "code",
   "execution_count": null,
   "id": "aa302bab",
   "metadata": {},
   "outputs": [],
   "source": [
    "df.loc[df[\"Sütun ismi\"] == \"Aradığımız Satır\"] # Sütünlarda aradığımız satıra ulaşmak için kullanıyoruz.\n",
    "#Daha sonra o satırda istediğimiz veriye ulaşmak için [\"O verideki istediğimiz sütun ismi\"]"
   ]
  },
  {
   "cell_type": "code",
   "execution_count": 21,
   "id": "d5a90329",
   "metadata": {},
   "outputs": [],
   "source": [
    "#Elimizdeki Veride Şartlı işlemler yaparak listelemek örnek : 50den büyükleri getir , hem 50 den büyük hemde 80 den küçük verileri getir."
   ]
  },
  {
   "cell_type": "code",
   "execution_count": null,
   "id": "49a294f4",
   "metadata": {},
   "outputs": [],
   "source": [
    "df.loc[(df[\"Sütunismi \"] >= 50) & (df[\"Sütunismi\"] <= 80)] #İstersek bunu farklı bir değişkene kaydedip üzerinde tekrardan düzenlemeler yapabiliriz."
   ]
  },
  {
   "cell_type": "code",
   "execution_count": 23,
   "id": "2b92cc2d",
   "metadata": {},
   "outputs": [],
   "source": [
    "#Yukarıdaka dikkat etmemiz gereken işlemlerdeki tipler tipler farklı ise hata vericektir. Tipleri Görmek için"
   ]
  },
  {
   "cell_type": "code",
   "execution_count": null,
   "id": "f0abbfdf",
   "metadata": {},
   "outputs": [],
   "source": [
    "df.dtypes"
   ]
  },
  {
   "cell_type": "code",
   "execution_count": 24,
   "id": "be37c43a",
   "metadata": {},
   "outputs": [],
   "source": [
    "#Öncelikle Hata veren sütunun , gibi işaretlerini silmeliyiz"
   ]
  },
  {
   "cell_type": "code",
   "execution_count": null,
   "id": "e02c5afc",
   "metadata": {},
   "outputs": [],
   "source": [
    "df[\"Sütun İsmi\"] = df[\"Sütun İsmi\"].str.replace(\",\" , \"\")\n",
    "df[\"Sütun İsmi\"] = pd.to_numeric(df[\"Sütun İsmi\"]) #Sayısal Değişken yaptık\n",
    "type(df[\"Sütun İsmi\"]) #Kontrol İşlemi"
   ]
  },
  {
   "cell_type": "code",
   "execution_count": null,
   "id": "f4868818",
   "metadata": {},
   "outputs": [],
   "source": [
    "#Hatayı bu şekilde önleyebiliriz.\n"
   ]
  },
  {
   "cell_type": "code",
   "execution_count": null,
   "id": "48013cfe",
   "metadata": {},
   "outputs": [],
   "source": [
    "#Manuel Olarak Data Frame Oluşturma İşlemleri"
   ]
  },
  {
   "cell_type": "code",
   "execution_count": 25,
   "id": "dd2f4827",
   "metadata": {},
   "outputs": [],
   "source": [
    "import random # Random kütüphanesini import ediyoruz."
   ]
  },
  {
   "cell_type": "code",
   "execution_count": 28,
   "id": "9e36d4e4",
   "metadata": {},
   "outputs": [
    {
     "data": {
      "text/plain": [
       "[17, 23]"
      ]
     },
     "execution_count": 28,
     "metadata": {},
     "output_type": "execute_result"
    }
   ],
   "source": [
    "random_list1 = random.sample(range(15 , 25) , 2) #İki elemanlı 15 ile 25 arasında rastgele sayı üretir.\n",
    "random_list1"
   ]
  },
  {
   "cell_type": "code",
   "execution_count": 29,
   "id": "d67ce91a",
   "metadata": {},
   "outputs": [
    {
     "data": {
      "text/plain": [
       "[16, 24]"
      ]
     },
     "execution_count": 29,
     "metadata": {},
     "output_type": "execute_result"
    }
   ],
   "source": [
    "random_list2 = random.sample(range(15, 25) , 2)#İki elemanlı 15 ile 25 arasında rastgele sayı üretir.\n",
    "random_list2"
   ]
  },
  {
   "cell_type": "code",
   "execution_count": 31,
   "id": "8e3dc2d4",
   "metadata": {},
   "outputs": [
    {
     "data": {
      "text/plain": [
       "[[17, 23], [16, 24]]"
      ]
     },
     "execution_count": 31,
     "metadata": {},
     "output_type": "execute_result"
    }
   ],
   "source": [
    "randomlistoflist = [random_list1 , random_list2]# İki listeyi birleştirdik\n",
    "randomlistoflist"
   ]
  },
  {
   "cell_type": "code",
   "execution_count": 32,
   "id": "f6bd56a6",
   "metadata": {},
   "outputs": [],
   "source": [
    "columns = [\"Sıcaklık 1.gün\" , \"Sıcaklık 2,gün\"]#Sütun isimlerini burda tutuyoruz."
   ]
  },
  {
   "cell_type": "code",
   "execution_count": 35,
   "id": "35f51430",
   "metadata": {},
   "outputs": [],
   "source": [
    "mydataframe = pd.DataFrame(randomlistoflist , index = [\"ist\" , \"ankara\"] , columns = columns)\n",
    "#pd.DataFrame ile data frame oluşturduk , \n",
    "#İndex ile index isimlerndirmesi yaptık , \n",
    "#columns ile sütün isimleri tuttuğumuza eşitleyerek değerleri sütun isimleri yaptık."
   ]
  },
  {
   "cell_type": "code",
   "execution_count": 39,
   "id": "24ffb4ec",
   "metadata": {},
   "outputs": [
    {
     "data": {
      "text/html": [
       "<div>\n",
       "<style scoped>\n",
       "    .dataframe tbody tr th:only-of-type {\n",
       "        vertical-align: middle;\n",
       "    }\n",
       "\n",
       "    .dataframe tbody tr th {\n",
       "        vertical-align: top;\n",
       "    }\n",
       "\n",
       "    .dataframe thead th {\n",
       "        text-align: right;\n",
       "    }\n",
       "</style>\n",
       "<table border=\"1\" class=\"dataframe\">\n",
       "  <thead>\n",
       "    <tr style=\"text-align: right;\">\n",
       "      <th></th>\n",
       "      <th>Sıcaklık 1.gün</th>\n",
       "      <th>Sıcaklık 2,gün</th>\n",
       "    </tr>\n",
       "  </thead>\n",
       "  <tbody>\n",
       "    <tr>\n",
       "      <th>ist</th>\n",
       "      <td>17</td>\n",
       "      <td>23</td>\n",
       "    </tr>\n",
       "    <tr>\n",
       "      <th>ankara</th>\n",
       "      <td>16</td>\n",
       "      <td>24</td>\n",
       "    </tr>\n",
       "  </tbody>\n",
       "</table>\n",
       "</div>"
      ],
      "text/plain": [
       "        Sıcaklık 1.gün  Sıcaklık 2,gün\n",
       "ist                 17              23\n",
       "ankara              16              24"
      ]
     },
     "execution_count": 39,
     "metadata": {},
     "output_type": "execute_result"
    }
   ],
   "source": [
    "\n",
    "mydataframe"
   ]
  },
  {
   "cell_type": "raw",
   "id": "89d2a064",
   "metadata": {},
   "source": []
  },
  {
   "cell_type": "raw",
   "id": "3937eb2a",
   "metadata": {},
   "source": []
  },
  {
   "cell_type": "code",
   "execution_count": 40,
   "id": "1f745118",
   "metadata": {},
   "outputs": [],
   "source": [
    "#Pandas Modülü Detaylı BİLGİLER"
   ]
  },
  {
   "cell_type": "code",
   "execution_count": 41,
   "id": "bafefd76",
   "metadata": {},
   "outputs": [],
   "source": [
    "#öRNEK VERİ SETİYLE "
   ]
  },
  {
   "cell_type": "code",
   "execution_count": 42,
   "id": "0233a335",
   "metadata": {},
   "outputs": [],
   "source": [
    "import pandas as pd \n",
    "import seaborn as sns\n",
    "#Modülleri import ettik"
   ]
  },
  {
   "cell_type": "code",
   "execution_count": 43,
   "id": "3ff82dce",
   "metadata": {},
   "outputs": [],
   "source": [
    "df = sns.load_dataset(\"planets\") # Hazır veri setini çektik"
   ]
  },
  {
   "cell_type": "code",
   "execution_count": 44,
   "id": "035a6eb4",
   "metadata": {},
   "outputs": [
    {
     "data": {
      "text/html": [
       "<div>\n",
       "<style scoped>\n",
       "    .dataframe tbody tr th:only-of-type {\n",
       "        vertical-align: middle;\n",
       "    }\n",
       "\n",
       "    .dataframe tbody tr th {\n",
       "        vertical-align: top;\n",
       "    }\n",
       "\n",
       "    .dataframe thead th {\n",
       "        text-align: right;\n",
       "    }\n",
       "</style>\n",
       "<table border=\"1\" class=\"dataframe\">\n",
       "  <thead>\n",
       "    <tr style=\"text-align: right;\">\n",
       "      <th></th>\n",
       "      <th>method</th>\n",
       "      <th>number</th>\n",
       "      <th>orbital_period</th>\n",
       "      <th>mass</th>\n",
       "      <th>distance</th>\n",
       "      <th>year</th>\n",
       "    </tr>\n",
       "  </thead>\n",
       "  <tbody>\n",
       "    <tr>\n",
       "      <th>0</th>\n",
       "      <td>Radial Velocity</td>\n",
       "      <td>1</td>\n",
       "      <td>269.300</td>\n",
       "      <td>7.10</td>\n",
       "      <td>77.40</td>\n",
       "      <td>2006</td>\n",
       "    </tr>\n",
       "    <tr>\n",
       "      <th>1</th>\n",
       "      <td>Radial Velocity</td>\n",
       "      <td>1</td>\n",
       "      <td>874.774</td>\n",
       "      <td>2.21</td>\n",
       "      <td>56.95</td>\n",
       "      <td>2008</td>\n",
       "    </tr>\n",
       "    <tr>\n",
       "      <th>2</th>\n",
       "      <td>Radial Velocity</td>\n",
       "      <td>1</td>\n",
       "      <td>763.000</td>\n",
       "      <td>2.60</td>\n",
       "      <td>19.84</td>\n",
       "      <td>2011</td>\n",
       "    </tr>\n",
       "    <tr>\n",
       "      <th>3</th>\n",
       "      <td>Radial Velocity</td>\n",
       "      <td>1</td>\n",
       "      <td>326.030</td>\n",
       "      <td>19.40</td>\n",
       "      <td>110.62</td>\n",
       "      <td>2007</td>\n",
       "    </tr>\n",
       "    <tr>\n",
       "      <th>4</th>\n",
       "      <td>Radial Velocity</td>\n",
       "      <td>1</td>\n",
       "      <td>516.220</td>\n",
       "      <td>10.50</td>\n",
       "      <td>119.47</td>\n",
       "      <td>2009</td>\n",
       "    </tr>\n",
       "  </tbody>\n",
       "</table>\n",
       "</div>"
      ],
      "text/plain": [
       "            method  number  orbital_period   mass  distance  year\n",
       "0  Radial Velocity       1         269.300   7.10     77.40  2006\n",
       "1  Radial Velocity       1         874.774   2.21     56.95  2008\n",
       "2  Radial Velocity       1         763.000   2.60     19.84  2011\n",
       "3  Radial Velocity       1         326.030  19.40    110.62  2007\n",
       "4  Radial Velocity       1         516.220  10.50    119.47  2009"
      ]
     },
     "execution_count": 44,
     "metadata": {},
     "output_type": "execute_result"
    }
   ],
   "source": [
    "df.head() #Veri setinin ilk 5 satırı"
   ]
  },
  {
   "cell_type": "code",
   "execution_count": 45,
   "id": "a1049099",
   "metadata": {},
   "outputs": [],
   "source": [
    "#Bu data framede daha rahat çalışmak için önce kopyalıyoruz . "
   ]
  },
  {
   "cell_type": "code",
   "execution_count": 46,
   "id": "ea503a5d",
   "metadata": {},
   "outputs": [],
   "source": [
    "df_kopya = df.copy()"
   ]
  },
  {
   "cell_type": "code",
   "execution_count": 47,
   "id": "663afc4f",
   "metadata": {},
   "outputs": [
    {
     "data": {
      "text/html": [
       "<div>\n",
       "<style scoped>\n",
       "    .dataframe tbody tr th:only-of-type {\n",
       "        vertical-align: middle;\n",
       "    }\n",
       "\n",
       "    .dataframe tbody tr th {\n",
       "        vertical-align: top;\n",
       "    }\n",
       "\n",
       "    .dataframe thead th {\n",
       "        text-align: right;\n",
       "    }\n",
       "</style>\n",
       "<table border=\"1\" class=\"dataframe\">\n",
       "  <thead>\n",
       "    <tr style=\"text-align: right;\">\n",
       "      <th></th>\n",
       "      <th>method</th>\n",
       "      <th>number</th>\n",
       "      <th>orbital_period</th>\n",
       "      <th>mass</th>\n",
       "      <th>distance</th>\n",
       "      <th>year</th>\n",
       "    </tr>\n",
       "  </thead>\n",
       "  <tbody>\n",
       "    <tr>\n",
       "      <th>0</th>\n",
       "      <td>Radial Velocity</td>\n",
       "      <td>1</td>\n",
       "      <td>269.300</td>\n",
       "      <td>7.10</td>\n",
       "      <td>77.40</td>\n",
       "      <td>2006</td>\n",
       "    </tr>\n",
       "    <tr>\n",
       "      <th>1</th>\n",
       "      <td>Radial Velocity</td>\n",
       "      <td>1</td>\n",
       "      <td>874.774</td>\n",
       "      <td>2.21</td>\n",
       "      <td>56.95</td>\n",
       "      <td>2008</td>\n",
       "    </tr>\n",
       "    <tr>\n",
       "      <th>2</th>\n",
       "      <td>Radial Velocity</td>\n",
       "      <td>1</td>\n",
       "      <td>763.000</td>\n",
       "      <td>2.60</td>\n",
       "      <td>19.84</td>\n",
       "      <td>2011</td>\n",
       "    </tr>\n",
       "    <tr>\n",
       "      <th>3</th>\n",
       "      <td>Radial Velocity</td>\n",
       "      <td>1</td>\n",
       "      <td>326.030</td>\n",
       "      <td>19.40</td>\n",
       "      <td>110.62</td>\n",
       "      <td>2007</td>\n",
       "    </tr>\n",
       "    <tr>\n",
       "      <th>4</th>\n",
       "      <td>Radial Velocity</td>\n",
       "      <td>1</td>\n",
       "      <td>516.220</td>\n",
       "      <td>10.50</td>\n",
       "      <td>119.47</td>\n",
       "      <td>2009</td>\n",
       "    </tr>\n",
       "  </tbody>\n",
       "</table>\n",
       "</div>"
      ],
      "text/plain": [
       "            method  number  orbital_period   mass  distance  year\n",
       "0  Radial Velocity       1         269.300   7.10     77.40  2006\n",
       "1  Radial Velocity       1         874.774   2.21     56.95  2008\n",
       "2  Radial Velocity       1         763.000   2.60     19.84  2011\n",
       "3  Radial Velocity       1         326.030  19.40    110.62  2007\n",
       "4  Radial Velocity       1         516.220  10.50    119.47  2009"
      ]
     },
     "execution_count": 47,
     "metadata": {},
     "output_type": "execute_result"
    }
   ],
   "source": [
    "df_kopya.head()"
   ]
  },
  {
   "cell_type": "code",
   "execution_count": null,
   "id": "9e9482ac",
   "metadata": {},
   "outputs": [],
   "source": [
    "#Data framede işimize yaramayan sütünları silmek için drop kullanılır . \n"
   ]
  },
  {
   "cell_type": "code",
   "execution_count": 48,
   "id": "5f6325a0",
   "metadata": {},
   "outputs": [],
   "source": [
    "df_yeni = df_kopya.drop([\"method\" , \"number\"] , axis = 1) # axis 1 ise sütun silinir , 0 ise satır silinir."
   ]
  },
  {
   "cell_type": "code",
   "execution_count": 50,
   "id": "bafc915f",
   "metadata": {},
   "outputs": [
    {
     "data": {
      "text/html": [
       "<div>\n",
       "<style scoped>\n",
       "    .dataframe tbody tr th:only-of-type {\n",
       "        vertical-align: middle;\n",
       "    }\n",
       "\n",
       "    .dataframe tbody tr th {\n",
       "        vertical-align: top;\n",
       "    }\n",
       "\n",
       "    .dataframe thead th {\n",
       "        text-align: right;\n",
       "    }\n",
       "</style>\n",
       "<table border=\"1\" class=\"dataframe\">\n",
       "  <thead>\n",
       "    <tr style=\"text-align: right;\">\n",
       "      <th></th>\n",
       "      <th>orbital_period</th>\n",
       "      <th>mass</th>\n",
       "      <th>distance</th>\n",
       "      <th>year</th>\n",
       "    </tr>\n",
       "  </thead>\n",
       "  <tbody>\n",
       "    <tr>\n",
       "      <th>0</th>\n",
       "      <td>269.300</td>\n",
       "      <td>7.10</td>\n",
       "      <td>77.40</td>\n",
       "      <td>2006</td>\n",
       "    </tr>\n",
       "    <tr>\n",
       "      <th>1</th>\n",
       "      <td>874.774</td>\n",
       "      <td>2.21</td>\n",
       "      <td>56.95</td>\n",
       "      <td>2008</td>\n",
       "    </tr>\n",
       "    <tr>\n",
       "      <th>2</th>\n",
       "      <td>763.000</td>\n",
       "      <td>2.60</td>\n",
       "      <td>19.84</td>\n",
       "      <td>2011</td>\n",
       "    </tr>\n",
       "    <tr>\n",
       "      <th>3</th>\n",
       "      <td>326.030</td>\n",
       "      <td>19.40</td>\n",
       "      <td>110.62</td>\n",
       "      <td>2007</td>\n",
       "    </tr>\n",
       "    <tr>\n",
       "      <th>4</th>\n",
       "      <td>516.220</td>\n",
       "      <td>10.50</td>\n",
       "      <td>119.47</td>\n",
       "      <td>2009</td>\n",
       "    </tr>\n",
       "  </tbody>\n",
       "</table>\n",
       "</div>"
      ],
      "text/plain": [
       "   orbital_period   mass  distance  year\n",
       "0         269.300   7.10     77.40  2006\n",
       "1         874.774   2.21     56.95  2008\n",
       "2         763.000   2.60     19.84  2011\n",
       "3         326.030  19.40    110.62  2007\n",
       "4         516.220  10.50    119.47  2009"
      ]
     },
     "execution_count": 50,
     "metadata": {},
     "output_type": "execute_result"
    }
   ],
   "source": [
    "df_yeni.head()"
   ]
  },
  {
   "cell_type": "code",
   "execution_count": null,
   "id": "81e1d9ba",
   "metadata": {},
   "outputs": [],
   "source": [
    "#Yukarıdaki işlemi kısaltarak yaparsak : "
   ]
  },
  {
   "cell_type": "code",
   "execution_count": 52,
   "id": "5ee2e40c",
   "metadata": {},
   "outputs": [
    {
     "data": {
      "text/html": [
       "<div>\n",
       "<style scoped>\n",
       "    .dataframe tbody tr th:only-of-type {\n",
       "        vertical-align: middle;\n",
       "    }\n",
       "\n",
       "    .dataframe tbody tr th {\n",
       "        vertical-align: top;\n",
       "    }\n",
       "\n",
       "    .dataframe thead th {\n",
       "        text-align: right;\n",
       "    }\n",
       "</style>\n",
       "<table border=\"1\" class=\"dataframe\">\n",
       "  <thead>\n",
       "    <tr style=\"text-align: right;\">\n",
       "      <th></th>\n",
       "      <th>orbital_period</th>\n",
       "      <th>mass</th>\n",
       "      <th>distance</th>\n",
       "      <th>year</th>\n",
       "    </tr>\n",
       "  </thead>\n",
       "  <tbody>\n",
       "    <tr>\n",
       "      <th>0</th>\n",
       "      <td>269.300</td>\n",
       "      <td>7.10</td>\n",
       "      <td>77.40</td>\n",
       "      <td>2006</td>\n",
       "    </tr>\n",
       "    <tr>\n",
       "      <th>1</th>\n",
       "      <td>874.774</td>\n",
       "      <td>2.21</td>\n",
       "      <td>56.95</td>\n",
       "      <td>2008</td>\n",
       "    </tr>\n",
       "    <tr>\n",
       "      <th>2</th>\n",
       "      <td>763.000</td>\n",
       "      <td>2.60</td>\n",
       "      <td>19.84</td>\n",
       "      <td>2011</td>\n",
       "    </tr>\n",
       "    <tr>\n",
       "      <th>3</th>\n",
       "      <td>326.030</td>\n",
       "      <td>19.40</td>\n",
       "      <td>110.62</td>\n",
       "      <td>2007</td>\n",
       "    </tr>\n",
       "    <tr>\n",
       "      <th>4</th>\n",
       "      <td>516.220</td>\n",
       "      <td>10.50</td>\n",
       "      <td>119.47</td>\n",
       "      <td>2009</td>\n",
       "    </tr>\n",
       "  </tbody>\n",
       "</table>\n",
       "</div>"
      ],
      "text/plain": [
       "   orbital_period   mass  distance  year\n",
       "0         269.300   7.10     77.40  2006\n",
       "1         874.774   2.21     56.95  2008\n",
       "2         763.000   2.60     19.84  2011\n",
       "3         326.030  19.40    110.62  2007\n",
       "4         516.220  10.50    119.47  2009"
      ]
     },
     "execution_count": 52,
     "metadata": {},
     "output_type": "execute_result"
    }
   ],
   "source": [
    "df_yeni2 = df_kopya.drop(columns = [\"method\" , \"number\"])\n",
    "df_yeni2.head()"
   ]
  },
  {
   "cell_type": "code",
   "execution_count": 53,
   "id": "73708142",
   "metadata": {},
   "outputs": [],
   "source": [
    "#row drop"
   ]
  },
  {
   "cell_type": "code",
   "execution_count": 54,
   "id": "cc523e7a",
   "metadata": {},
   "outputs": [
    {
     "data": {
      "text/html": [
       "<div>\n",
       "<style scoped>\n",
       "    .dataframe tbody tr th:only-of-type {\n",
       "        vertical-align: middle;\n",
       "    }\n",
       "\n",
       "    .dataframe tbody tr th {\n",
       "        vertical-align: top;\n",
       "    }\n",
       "\n",
       "    .dataframe thead th {\n",
       "        text-align: right;\n",
       "    }\n",
       "</style>\n",
       "<table border=\"1\" class=\"dataframe\">\n",
       "  <thead>\n",
       "    <tr style=\"text-align: right;\">\n",
       "      <th></th>\n",
       "      <th>method</th>\n",
       "      <th>number</th>\n",
       "      <th>orbital_period</th>\n",
       "      <th>mass</th>\n",
       "      <th>distance</th>\n",
       "      <th>year</th>\n",
       "    </tr>\n",
       "  </thead>\n",
       "  <tbody>\n",
       "    <tr>\n",
       "      <th>1</th>\n",
       "      <td>Radial Velocity</td>\n",
       "      <td>1</td>\n",
       "      <td>874.774</td>\n",
       "      <td>2.21</td>\n",
       "      <td>56.95</td>\n",
       "      <td>2008</td>\n",
       "    </tr>\n",
       "    <tr>\n",
       "      <th>2</th>\n",
       "      <td>Radial Velocity</td>\n",
       "      <td>1</td>\n",
       "      <td>763.000</td>\n",
       "      <td>2.60</td>\n",
       "      <td>19.84</td>\n",
       "      <td>2011</td>\n",
       "    </tr>\n",
       "    <tr>\n",
       "      <th>3</th>\n",
       "      <td>Radial Velocity</td>\n",
       "      <td>1</td>\n",
       "      <td>326.030</td>\n",
       "      <td>19.40</td>\n",
       "      <td>110.62</td>\n",
       "      <td>2007</td>\n",
       "    </tr>\n",
       "    <tr>\n",
       "      <th>4</th>\n",
       "      <td>Radial Velocity</td>\n",
       "      <td>1</td>\n",
       "      <td>516.220</td>\n",
       "      <td>10.50</td>\n",
       "      <td>119.47</td>\n",
       "      <td>2009</td>\n",
       "    </tr>\n",
       "    <tr>\n",
       "      <th>5</th>\n",
       "      <td>Radial Velocity</td>\n",
       "      <td>1</td>\n",
       "      <td>185.840</td>\n",
       "      <td>4.80</td>\n",
       "      <td>76.39</td>\n",
       "      <td>2008</td>\n",
       "    </tr>\n",
       "  </tbody>\n",
       "</table>\n",
       "</div>"
      ],
      "text/plain": [
       "            method  number  orbital_period   mass  distance  year\n",
       "1  Radial Velocity       1         874.774   2.21     56.95  2008\n",
       "2  Radial Velocity       1         763.000   2.60     19.84  2011\n",
       "3  Radial Velocity       1         326.030  19.40    110.62  2007\n",
       "4  Radial Velocity       1         516.220  10.50    119.47  2009\n",
       "5  Radial Velocity       1         185.840   4.80     76.39  2008"
      ]
     },
     "execution_count": 54,
     "metadata": {},
     "output_type": "execute_result"
    }
   ],
   "source": [
    "df_yeni3 = df_kopya.drop([0]) # 0 ıncı indexdeki satırı siler .\n",
    "df_yeni3.head()"
   ]
  },
  {
   "cell_type": "code",
   "execution_count": null,
   "id": "1aa4551e",
   "metadata": {},
   "outputs": [],
   "source": [
    "#Filtreleme İşlemleri \n"
   ]
  },
  {
   "cell_type": "code",
   "execution_count": 57,
   "id": "0c1546a9",
   "metadata": {},
   "outputs": [
    {
     "data": {
      "text/html": [
       "<div>\n",
       "<style scoped>\n",
       "    .dataframe tbody tr th:only-of-type {\n",
       "        vertical-align: middle;\n",
       "    }\n",
       "\n",
       "    .dataframe tbody tr th {\n",
       "        vertical-align: top;\n",
       "    }\n",
       "\n",
       "    .dataframe thead th {\n",
       "        text-align: right;\n",
       "    }\n",
       "</style>\n",
       "<table border=\"1\" class=\"dataframe\">\n",
       "  <thead>\n",
       "    <tr style=\"text-align: right;\">\n",
       "      <th></th>\n",
       "      <th>method</th>\n",
       "      <th>number</th>\n",
       "      <th>orbital_period</th>\n",
       "      <th>mass</th>\n",
       "      <th>distance</th>\n",
       "      <th>year</th>\n",
       "    </tr>\n",
       "  </thead>\n",
       "  <tbody>\n",
       "    <tr>\n",
       "      <th>63</th>\n",
       "      <td>Radial Velocity</td>\n",
       "      <td>1</td>\n",
       "      <td>305.50</td>\n",
       "      <td>20.60</td>\n",
       "      <td>92.51</td>\n",
       "      <td>2013</td>\n",
       "    </tr>\n",
       "    <tr>\n",
       "      <th>85</th>\n",
       "      <td>Radial Velocity</td>\n",
       "      <td>2</td>\n",
       "      <td>379.63</td>\n",
       "      <td>21.42</td>\n",
       "      <td>NaN</td>\n",
       "      <td>2009</td>\n",
       "    </tr>\n",
       "    <tr>\n",
       "      <th>321</th>\n",
       "      <td>Radial Velocity</td>\n",
       "      <td>1</td>\n",
       "      <td>2371.00</td>\n",
       "      <td>25.00</td>\n",
       "      <td>37.05</td>\n",
       "      <td>2008</td>\n",
       "    </tr>\n",
       "  </tbody>\n",
       "</table>\n",
       "</div>"
      ],
      "text/plain": [
       "              method  number  orbital_period   mass  distance  year\n",
       "63   Radial Velocity       1          305.50  20.60     92.51  2013\n",
       "85   Radial Velocity       2          379.63  21.42       NaN  2009\n",
       "321  Radial Velocity       1         2371.00  25.00     37.05  2008"
      ]
     },
     "execution_count": 57,
     "metadata": {},
     "output_type": "execute_result"
    }
   ],
   "source": [
    "df_filter = df_kopya[df[\"mass\"] >= 20] # df içindeki mass sütünunda 20den büyük veya eşitleri filtreleme işlemi yapar.\n",
    "df_filter"
   ]
  },
  {
   "cell_type": "code",
   "execution_count": null,
   "id": "dd0d23d0",
   "metadata": {},
   "outputs": [],
   "source": [
    "#veya \n"
   ]
  },
  {
   "cell_type": "code",
   "execution_count": 59,
   "id": "9175410d",
   "metadata": {},
   "outputs": [
    {
     "data": {
      "text/html": [
       "<div>\n",
       "<style scoped>\n",
       "    .dataframe tbody tr th:only-of-type {\n",
       "        vertical-align: middle;\n",
       "    }\n",
       "\n",
       "    .dataframe tbody tr th {\n",
       "        vertical-align: top;\n",
       "    }\n",
       "\n",
       "    .dataframe thead th {\n",
       "        text-align: right;\n",
       "    }\n",
       "</style>\n",
       "<table border=\"1\" class=\"dataframe\">\n",
       "  <thead>\n",
       "    <tr style=\"text-align: right;\">\n",
       "      <th></th>\n",
       "      <th>method</th>\n",
       "      <th>number</th>\n",
       "      <th>orbital_period</th>\n",
       "      <th>mass</th>\n",
       "      <th>distance</th>\n",
       "      <th>year</th>\n",
       "    </tr>\n",
       "  </thead>\n",
       "  <tbody>\n",
       "    <tr>\n",
       "      <th>63</th>\n",
       "      <td>Radial Velocity</td>\n",
       "      <td>1</td>\n",
       "      <td>305.50</td>\n",
       "      <td>20.60</td>\n",
       "      <td>92.51</td>\n",
       "      <td>2013</td>\n",
       "    </tr>\n",
       "    <tr>\n",
       "      <th>85</th>\n",
       "      <td>Radial Velocity</td>\n",
       "      <td>2</td>\n",
       "      <td>379.63</td>\n",
       "      <td>21.42</td>\n",
       "      <td>NaN</td>\n",
       "      <td>2009</td>\n",
       "    </tr>\n",
       "    <tr>\n",
       "      <th>321</th>\n",
       "      <td>Radial Velocity</td>\n",
       "      <td>1</td>\n",
       "      <td>2371.00</td>\n",
       "      <td>25.00</td>\n",
       "      <td>37.05</td>\n",
       "      <td>2008</td>\n",
       "    </tr>\n",
       "  </tbody>\n",
       "</table>\n",
       "</div>"
      ],
      "text/plain": [
       "              method  number  orbital_period   mass  distance  year\n",
       "63   Radial Velocity       1          305.50  20.60     92.51  2013\n",
       "85   Radial Velocity       2          379.63  21.42       NaN  2009\n",
       "321  Radial Velocity       1         2371.00  25.00     37.05  2008"
      ]
     },
     "execution_count": 59,
     "metadata": {},
     "output_type": "execute_result"
    }
   ],
   "source": [
    "df_filter2 = df.query(\"mass >= 20\")\n",
    "df_filter2"
   ]
  },
  {
   "cell_type": "code",
   "execution_count": null,
   "id": "542d33fd",
   "metadata": {},
   "outputs": [],
   "source": []
  },
  {
   "cell_type": "code",
   "execution_count": null,
   "id": "6df9c9ca",
   "metadata": {},
   "outputs": [],
   "source": []
  },
  {
   "cell_type": "code",
   "execution_count": null,
   "id": "ade71411",
   "metadata": {},
   "outputs": [],
   "source": []
  },
  {
   "cell_type": "code",
   "execution_count": null,
   "id": "95eb9499",
   "metadata": {},
   "outputs": [],
   "source": []
  },
  {
   "cell_type": "code",
   "execution_count": null,
   "id": "d0953940",
   "metadata": {},
   "outputs": [],
   "source": []
  },
  {
   "cell_type": "code",
   "execution_count": null,
   "id": "6134b477",
   "metadata": {},
   "outputs": [],
   "source": []
  },
  {
   "cell_type": "code",
   "execution_count": null,
   "id": "2f4fb0a3",
   "metadata": {},
   "outputs": [],
   "source": []
  }
 ],
 "metadata": {
  "kernelspec": {
   "display_name": "Python 3 (ipykernel)",
   "language": "python",
   "name": "python3"
  },
  "language_info": {
   "codemirror_mode": {
    "name": "ipython",
    "version": 3
   },
   "file_extension": ".py",
   "mimetype": "text/x-python",
   "name": "python",
   "nbconvert_exporter": "python",
   "pygments_lexer": "ipython3",
   "version": "3.10.9"
  }
 },
 "nbformat": 4,
 "nbformat_minor": 5
}
