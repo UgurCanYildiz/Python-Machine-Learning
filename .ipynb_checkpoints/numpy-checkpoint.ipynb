{
 "cells": [
  {
   "cell_type": "code",
   "execution_count": 26,
   "id": "4cc2719e",
   "metadata": {},
   "outputs": [],
   "source": [
    "#Numpy : Çok boyutlu dizilerde ve matrislerde çalışmamıza yardım eden ileri düzey matematiksel işlemler yapabiliceğimiz bir modüldür."
   ]
  },
  {
   "cell_type": "code",
   "execution_count": 2,
   "id": "9aa8fb0c",
   "metadata": {},
   "outputs": [],
   "source": [
    "import numpy as np \n",
    "\n",
    "#modülüm yüklenmesi "
   ]
  },
  {
   "cell_type": "code",
   "execution_count": 3,
   "id": "093a33f7",
   "metadata": {},
   "outputs": [
    {
     "name": "stdout",
     "output_type": "stream",
     "text": [
      "[1 2 3]\n",
      "[[1 2 3]\n",
      " [4 5 6]]\n"
     ]
    }
   ],
   "source": [
    "\n",
    "#Array oluşturmak\n",
    "a = np.array([1 , 2 , 3])\n",
    "b = np.array([[1 , 2 , 3],[ 4 , 5, 6]])\n",
    "print(a)\n",
    "print(b)\n"
   ]
  },
  {
   "cell_type": "code",
   "execution_count": 4,
   "id": "eef74313",
   "metadata": {},
   "outputs": [
    {
     "data": {
      "text/plain": [
       "2"
      ]
     },
     "execution_count": 4,
     "metadata": {},
     "output_type": "execute_result"
    }
   ],
   "source": [
    "#Dizi boyutunu öğrenmek için \n",
    "b.ndim\n"
   ]
  },
  {
   "cell_type": "code",
   "execution_count": 5,
   "id": "61aff7dd",
   "metadata": {},
   "outputs": [
    {
     "data": {
      "text/plain": [
       "1"
      ]
     },
     "execution_count": 5,
     "metadata": {},
     "output_type": "execute_result"
    }
   ],
   "source": [
    "a.ndim"
   ]
  },
  {
   "cell_type": "code",
   "execution_count": 8,
   "id": "68ee6ba7",
   "metadata": {},
   "outputs": [
    {
     "data": {
      "text/plain": [
       "(2, 3)"
      ]
     },
     "execution_count": 8,
     "metadata": {},
     "output_type": "execute_result"
    }
   ],
   "source": [
    "#Satır ve sütun hakkında bilgi için \n",
    "b.shape\n",
    "# 2 Satır 3 sütunlu "
   ]
  },
  {
   "cell_type": "code",
   "execution_count": 9,
   "id": "78c42ec5",
   "metadata": {},
   "outputs": [
    {
     "data": {
      "text/plain": [
       "dtype('int32')"
      ]
     },
     "execution_count": 9,
     "metadata": {},
     "output_type": "execute_result"
    }
   ],
   "source": [
    "# Tipini öğrenmek için : \n",
    "b.dtype"
   ]
  },
  {
   "cell_type": "code",
   "execution_count": 10,
   "id": "77228e15",
   "metadata": {},
   "outputs": [
    {
     "name": "stdout",
     "output_type": "stream",
     "text": [
      "[[1 2 3]\n",
      " [4 5 6]]\n"
     ]
    }
   ],
   "source": [
    "#Dizinin belirli bir hücresine erişmek için satır ve sutun numaraları kullanırız.\n",
    "print(b)"
   ]
  },
  {
   "cell_type": "code",
   "execution_count": 12,
   "id": "e196a32c",
   "metadata": {},
   "outputs": [
    {
     "data": {
      "text/plain": [
       "3"
      ]
     },
     "execution_count": 12,
     "metadata": {},
     "output_type": "execute_result"
    }
   ],
   "source": [
    "b[0,2] # 0. indexteki satır , 2 inci indexteki sütun"
   ]
  },
  {
   "cell_type": "code",
   "execution_count": 15,
   "id": "a8a39583",
   "metadata": {},
   "outputs": [
    {
     "data": {
      "text/plain": [
       "array([1, 2, 3])"
      ]
     },
     "execution_count": 15,
     "metadata": {},
     "output_type": "execute_result"
    }
   ],
   "source": [
    "b[0]"
   ]
  },
  {
   "cell_type": "code",
   "execution_count": 16,
   "id": "6ae71ff1",
   "metadata": {},
   "outputs": [
    {
     "data": {
      "text/plain": [
       "array([2, 3])"
      ]
     },
     "execution_count": 16,
     "metadata": {},
     "output_type": "execute_result"
    }
   ],
   "source": [
    "# Birinci satırdaki 2 ve 3 ü almak istersek\n",
    "\n",
    "b[0,1:]"
   ]
  },
  {
   "cell_type": "code",
   "execution_count": 18,
   "id": "2dfcb241",
   "metadata": {},
   "outputs": [
    {
     "data": {
      "text/plain": [
       "array([[100,   2,   3],\n",
       "       [  4,   5,   6]])"
      ]
     },
     "execution_count": 18,
     "metadata": {},
     "output_type": "execute_result"
    }
   ],
   "source": [
    "# Dizideki bilgilere index ile ulaşıp değiştirebiliriz.\n",
    "\n",
    "b[0][0] = 100\n",
    "b"
   ]
  },
  {
   "cell_type": "markdown",
   "id": "ef9aa981",
   "metadata": {},
   "source": [
    "### Otomatik Dizi Oluşturma"
   ]
  },
  {
   "cell_type": "code",
   "execution_count": 19,
   "id": "6738cc5d",
   "metadata": {},
   "outputs": [
    {
     "data": {
      "text/plain": [
       "array([[0., 0., 0.],\n",
       "       [0., 0., 0.]])"
      ]
     },
     "execution_count": 19,
     "metadata": {},
     "output_type": "execute_result"
    }
   ],
   "source": [
    "#Tümü sıfır matris / dizi oluşturma\n",
    "\n",
    "dizi_s = np.zeros((2,3)) # 2 satırdan 3 satırdan elemanları 0 olan dizi oluşturma\n",
    "dizi_s"
   ]
  },
  {
   "cell_type": "code",
   "execution_count": 20,
   "id": "06a28576",
   "metadata": {},
   "outputs": [
    {
     "data": {
      "text/plain": [
       "array([[50, 50, 50, 50],\n",
       "       [50, 50, 50, 50],\n",
       "       [50, 50, 50, 50],\n",
       "       [50, 50, 50, 50]])"
      ]
     },
     "execution_count": 20,
     "metadata": {},
     "output_type": "execute_result"
    }
   ],
   "source": [
    "#Tümü aynı değer olan dizi\n",
    "dizi1 = np.full((4,4) , 50) # 4 SATIR 4 SUTUN DEĞERLERİ 50 OLAN DİZİ\n",
    "dizi1\n"
   ]
  },
  {
   "cell_type": "code",
   "execution_count": 21,
   "id": "a9b7c7c9",
   "metadata": {},
   "outputs": [
    {
     "data": {
      "text/plain": [
       "array([[0.80426915, 0.87517067, 0.23028873],\n",
       "       [0.61316553, 0.83958432, 0.86025653],\n",
       "       [0.7106898 , 0.57596226, 0.30491073],\n",
       "       [0.39653383, 0.95589694, 0.39254211]])"
      ]
     },
     "execution_count": 21,
     "metadata": {},
     "output_type": "execute_result"
    }
   ],
   "source": [
    "# RANDOM DİZİ OLUSTURMA\n",
    "import random\n",
    "\n",
    "dizi2 = np.random.rand(4,3)\n",
    "dizi2"
   ]
  },
  {
   "cell_type": "code",
   "execution_count": 22,
   "id": "8be686f2",
   "metadata": {},
   "outputs": [
    {
     "data": {
      "text/plain": [
       "array([[24, 56, 20, 28, 90],\n",
       "       [55, 62, 69, 24,  7],\n",
       "       [29, 94, 59,  5, 77],\n",
       "       [87, 67, 58, 85, 84],\n",
       "       [69, 72, 42, 17, 62]])"
      ]
     },
     "execution_count": 22,
     "metadata": {},
     "output_type": "execute_result"
    }
   ],
   "source": [
    "# Otomatik random int dizisi olusturma \n",
    "dizi3 = np.random.randint( 0 ,100 , size = (5 , 5) )\n",
    "# 0 ile 100 arasında rastgele değerlerden 5 satırdan 5 sutundan olusan dizi\n",
    "dizi3"
   ]
  },
  {
   "cell_type": "code",
   "execution_count": 28,
   "id": "606e29a5",
   "metadata": {},
   "outputs": [
    {
     "data": {
      "text/plain": [
       "array([100,   2,   3])"
      ]
     },
     "execution_count": 28,
     "metadata": {},
     "output_type": "execute_result"
    }
   ],
   "source": [
    "# Dizi kopyalamada dikkat \n",
    "a = np.array([1, 2 ,3])\n",
    "b = a\n",
    "b[0] = 100\n",
    "a"
   ]
  },
  {
   "cell_type": "code",
   "execution_count": 29,
   "id": "aa32fc75",
   "metadata": {},
   "outputs": [
    {
     "data": {
      "text/plain": [
       "100"
      ]
     },
     "execution_count": 29,
     "metadata": {},
     "output_type": "execute_result"
    }
   ],
   "source": [
    "# b de yaptığımnız değişiklik a yı etkilediği için kopyalama işlemlerini copy() ile yapıyoruz.\n",
    "c = b.copy()\n",
    "c[0] = 200\n",
    "b[0]"
   ]
  },
  {
   "cell_type": "markdown",
   "id": "d2ad1242",
   "metadata": {},
   "source": [
    "### DİZİLERDE MATEMATİKSEL İŞLEMLER"
   ]
  },
  {
   "cell_type": "code",
   "execution_count": 30,
   "id": "fab7c86d",
   "metadata": {},
   "outputs": [
    {
     "data": {
      "text/plain": [
       "array([1, 2, 3, 4])"
      ]
     },
     "execution_count": 30,
     "metadata": {},
     "output_type": "execute_result"
    }
   ],
   "source": [
    "a = np.array([1 , 2 , 3, 4])\n",
    "a"
   ]
  },
  {
   "cell_type": "code",
   "execution_count": 31,
   "id": "ae75cdb6",
   "metadata": {},
   "outputs": [
    {
     "data": {
      "text/plain": [
       "array([5, 6, 7, 8])"
      ]
     },
     "execution_count": 31,
     "metadata": {},
     "output_type": "execute_result"
    }
   ],
   "source": [
    "a+4"
   ]
  },
  {
   "cell_type": "code",
   "execution_count": 32,
   "id": "98ddeb3f",
   "metadata": {},
   "outputs": [
    {
     "data": {
      "text/plain": [
       "array([ 4,  8, 12, 16])"
      ]
     },
     "execution_count": 32,
     "metadata": {},
     "output_type": "execute_result"
    }
   ],
   "source": [
    "a*4"
   ]
  },
  {
   "cell_type": "code",
   "execution_count": 33,
   "id": "66e0cc6b",
   "metadata": {},
   "outputs": [
    {
     "data": {
      "text/plain": [
       "array([0.5, 1. , 1.5, 2. ])"
      ]
     },
     "execution_count": 33,
     "metadata": {},
     "output_type": "execute_result"
    }
   ],
   "source": [
    "a/2"
   ]
  },
  {
   "cell_type": "code",
   "execution_count": 34,
   "id": "56bb2672",
   "metadata": {},
   "outputs": [
    {
     "data": {
      "text/plain": [
       "array([2, 2, 4, 4])"
      ]
     },
     "execution_count": 34,
     "metadata": {},
     "output_type": "execute_result"
    }
   ],
   "source": [
    "b = np.array([1,0,1,0])\n",
    "a+b"
   ]
  },
  {
   "cell_type": "code",
   "execution_count": 35,
   "id": "42cbc3ea",
   "metadata": {},
   "outputs": [
    {
     "data": {
      "text/plain": [
       "array([ 1,  4,  9, 16])"
      ]
     },
     "execution_count": 35,
     "metadata": {},
     "output_type": "execute_result"
    }
   ],
   "source": [
    "a**2"
   ]
  },
  {
   "cell_type": "markdown",
   "id": "faaab6a2",
   "metadata": {},
   "source": [
    "### İstatislik"
   ]
  },
  {
   "cell_type": "code",
   "execution_count": 37,
   "id": "e9f2361c",
   "metadata": {},
   "outputs": [
    {
     "data": {
      "text/plain": [
       "array([[1, 2, 3],\n",
       "       [4, 5, 6]])"
      ]
     },
     "execution_count": 37,
     "metadata": {},
     "output_type": "execute_result"
    }
   ],
   "source": [
    "dizi4 = np.array([[1,2,3],[4,5,6]])\n",
    "dizi4"
   ]
  },
  {
   "cell_type": "code",
   "execution_count": 38,
   "id": "c2f05056",
   "metadata": {},
   "outputs": [
    {
     "data": {
      "text/plain": [
       "1"
      ]
     },
     "execution_count": 38,
     "metadata": {},
     "output_type": "execute_result"
    }
   ],
   "source": [
    "np.min(dizi4) # Dizi 4 ün min değeri"
   ]
  },
  {
   "cell_type": "code",
   "execution_count": 39,
   "id": "aaff4cf8",
   "metadata": {},
   "outputs": [
    {
     "data": {
      "text/plain": [
       "21"
      ]
     },
     "execution_count": 39,
     "metadata": {},
     "output_type": "execute_result"
    }
   ],
   "source": [
    "np.sum(dizi4) # Dizi 4 ün toplam değeri"
   ]
  },
  {
   "cell_type": "code",
   "execution_count": 41,
   "id": "30f86caf",
   "metadata": {},
   "outputs": [
    {
     "data": {
      "text/plain": [
       "6"
      ]
     },
     "execution_count": 41,
     "metadata": {},
     "output_type": "execute_result"
    }
   ],
   "source": [
    "np.max(dizi4) # Dizi 4 ün maks değeri"
   ]
  },
  {
   "cell_type": "markdown",
   "id": "3acd6039",
   "metadata": {},
   "source": [
    "### Dosyadan dizi yükleme"
   ]
  },
  {
   "cell_type": "code",
   "execution_count": null,
   "id": "0e7c2891",
   "metadata": {},
   "outputs": [],
   "source": [
    "# Elimizdeki txt dosyasını aynı dizine kaydediyoruz.\n",
    "# genfromtxt ile dosya okuma işlemleri yapıyoruz.\n",
    "# np.gendfromtxt('dosya ismi' , delimiter = 'ayraç')\n",
    "# ve tipini belirtiyoruz\n",
    "\n",
    "filedata = np.genfromtxt('dosya_ismi.txt' , delimiter=',')\n",
    "filedata = filedata.astype('int32')\n"
   ]
  },
  {
   "cell_type": "code",
   "execution_count": null,
   "id": "9928cbdf",
   "metadata": {},
   "outputs": [],
   "source": []
  }
 ],
 "metadata": {
  "kernelspec": {
   "display_name": "Python 3 (ipykernel)",
   "language": "python",
   "name": "python3"
  },
  "language_info": {
   "codemirror_mode": {
    "name": "ipython",
    "version": 3
   },
   "file_extension": ".py",
   "mimetype": "text/x-python",
   "name": "python",
   "nbconvert_exporter": "python",
   "pygments_lexer": "ipython3",
   "version": "3.10.9"
  }
 },
 "nbformat": 4,
 "nbformat_minor": 5
}
